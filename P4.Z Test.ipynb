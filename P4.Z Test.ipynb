{
 "cells": [
  {
   "cell_type": "code",
   "execution_count": 2,
   "id": "f5b45db8-ab21-4777-9443-27326fe6d93e",
   "metadata": {},
   "outputs": [],
   "source": [
    "# Name- shreya kishor sharma\n",
    "# Roll No- 46"
   ]
  },
  {
   "cell_type": "code",
   "execution_count": 3,
   "id": "6aa236a7",
   "metadata": {},
   "outputs": [],
   "source": [
    "import pandas as pd\n",
    "from scipy import stats\n",
    "from statsmodels.stats import weightstats as stests"
   ]
  },
  {
   "cell_type": "code",
   "execution_count": 4,
   "id": "81f3f2d3-5182-4a6c-9961-332d017d7f2a",
   "metadata": {},
   "outputs": [],
   "source": [
    "data = [89, 93, 95, 93, 97, 98, 96, 99, 93, 97,110, 104, 119, 105, 104, 110, 110, 112, 115, 114]"
   ]
  },
  {
   "cell_type": "code",
   "execution_count": 5,
   "id": "b965ca3f-0ad9-47c4-8b64-94c5dd0895f8",
   "metadata": {},
   "outputs": [],
   "source": [
    "z_test ,p_val = stests.ztest(data, x2 = None, value = 160)"
   ]
  },
  {
   "cell_type": "code",
   "execution_count": 6,
   "id": "2f2c73d4-9fa9-45e9-b8b7-3bf54c56fc49",
   "metadata": {},
   "outputs": [
    {
     "name": "stdout",
     "output_type": "stream",
     "text": [
      "2.417334226169332e-186\n"
     ]
    }
   ],
   "source": [
    "print(p_val)"
   ]
  },
  {
   "cell_type": "code",
   "execution_count": 7,
   "id": "20d17b6a-5f6b-49da-af5e-2b6215cc0b51",
   "metadata": {},
   "outputs": [
    {
     "name": "stdout",
     "output_type": "stream",
     "text": [
      "We can reject the null hypothesis\n"
     ]
    }
   ],
   "source": [
    "if p_val < 0.05:\n",
    "    print(\"We can reject the null hypothesis\")\n",
    "else:\n",
    "    print(\"We can accept the null hypothesis\")"
   ]
  }
 ],
 "metadata": {
  "kernelspec": {
   "display_name": "base",
   "language": "python",
   "name": "python3"
  },
  "language_info": {
   "codemirror_mode": {
    "name": "ipython",
    "version": 3
   },
   "file_extension": ".py",
   "mimetype": "text/x-python",
   "name": "python",
   "nbconvert_exporter": "python",
   "pygments_lexer": "ipython3",
   "version": "3.12.4"
  }
 },
 "nbformat": 4,
 "nbformat_minor": 5
}
