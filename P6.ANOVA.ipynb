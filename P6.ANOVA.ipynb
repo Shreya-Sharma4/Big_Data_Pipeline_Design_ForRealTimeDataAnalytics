{
 "cells": [
  {
   "cell_type": "code",
   "execution_count": 1,
   "id": "0bb971ed-5303-4a0c-88ef-dd948e46cb7e",
   "metadata": {},
   "outputs": [],
   "source": [
    "# Name- shreya kishor sharma\n",
    "# Roll No- 46"
   ]
  },
  {
   "cell_type": "code",
   "execution_count": 2,
   "id": "5ceca4bc",
   "metadata": {},
   "outputs": [],
   "source": [
    "import scipy.stats"
   ]
  },
  {
   "cell_type": "code",
   "execution_count": 3,
   "id": "65ba524c-ca5f-4ae1-8b1d-b702b96454a4",
   "metadata": {},
   "outputs": [],
   "source": [
    "data1=[0.0842, 0.0368, 0.0847, 0.0935, 0.0376, 0.0963, 0.0684, 0.0758, 0.0854, 0.0855]\n",
    "data2=[0.0785, 0.0845, 0.0758, 0.0853, 0.0946, 0.0785, 0.0853, 0.0685]\n",
    "data3=[0.0864, 0.2522, 0.0894, 0.2724, 0.0853, 0.1367, 0.853]"
   ]
  },
  {
   "cell_type": "code",
   "execution_count": 4,
   "id": "e6a5ee10-0258-4381-acc8-bfc4c9e36681",
   "metadata": {},
   "outputs": [
    {
     "name": "stdout",
     "output_type": "stream",
     "text": [
      "p-value is:  0.04043792126789144\n"
     ]
    }
   ],
   "source": [
    "f_test, p_val=scipy.stats.f_oneway(data1, data2, data3)\n",
    "print(\"p-value is: \",p_val)"
   ]
  },
  {
   "cell_type": "code",
   "execution_count": 5,
   "id": "f0151792-0943-481a-81fb-e280291b4775",
   "metadata": {},
   "outputs": [
    {
     "name": "stdout",
     "output_type": "stream",
     "text": [
      "We can reject the null hypothesis\n"
     ]
    }
   ],
   "source": [
    "if p_val < 0.05:\n",
    "    print(\"We can reject the null hypothesis\")\n",
    "else:\n",
    "    print(\"We can accept the null hypothesis\")"
   ]
  },
  {
   "cell_type": "code",
   "execution_count": null,
   "id": "e20f9652-8825-44f9-8513-f8789f09f86a",
   "metadata": {},
   "outputs": [],
   "source": []
  }
 ],
 "metadata": {
  "kernelspec": {
   "display_name": "base",
   "language": "python",
   "name": "python3"
  },
  "language_info": {
   "codemirror_mode": {
    "name": "ipython",
    "version": 3
   },
   "file_extension": ".py",
   "mimetype": "text/x-python",
   "name": "python",
   "nbconvert_exporter": "python",
   "pygments_lexer": "ipython3",
   "version": "3.12.4"
  }
 },
 "nbformat": 4,
 "nbformat_minor": 5
}
